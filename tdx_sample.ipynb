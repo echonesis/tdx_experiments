{
 "cells": [
  {
   "cell_type": "markdown",
   "metadata": {},
   "source": [
    "## Purposes\n",
    "This notebook is designed to help new users develop TDX-related applications through Python packages.\n",
    "\n",
    "## Reference\n",
    "- https://github.com/tdxmotc/SampleCode"
   ]
  },
  {
   "cell_type": "code",
   "execution_count": null,
   "metadata": {},
   "outputs": [],
   "source": [
    "import requests\n",
    "import json"
   ]
  },
  {
   "cell_type": "code",
   "execution_count": null,
   "metadata": {},
   "outputs": [],
   "source": [
    "ACCESS_TOKEN_ENDPOINT = \"https://tdx.transportdata.tw/auth/realms/TDXConnect/protocol/openid-connect/token\"\n",
    "GRANT_TYPE = \"client_credentials\""
   ]
  },
  {
   "cell_type": "code",
   "execution_count": null,
   "metadata": {},
   "outputs": [],
   "source": [
    "headers = {\n",
    "    \"Content-Type\": \"application/x-www-form-urlencoded\"\n",
    "}"
   ]
  },
  {
   "cell_type": "code",
   "execution_count": null,
   "metadata": {},
   "outputs": [],
   "source": [
    "client_secrets = json.load(open(\"secrets/client_secrets.json\", \"r\"))"
   ]
  },
  {
   "cell_type": "code",
   "execution_count": null,
   "metadata": {},
   "outputs": [],
   "source": [
    "data = {\n",
    "    \"grant_type\": GRANT_TYPE,\n",
    "    \"client_id\": client_secrets[\"client_id\"],\n",
    "    \"client_secret\": client_secrets[\"client_secret\"]\n",
    "}"
   ]
  },
  {
   "cell_type": "code",
   "execution_count": null,
   "metadata": {},
   "outputs": [],
   "source": [
    "response = requests.post(ACCESS_TOKEN_ENDPOINT, headers=headers, data=data)\n",
    "\n",
    "# Print response\n",
    "if (response.status_code == 200):\n",
    "    access_token_response = response.json()\n",
    "    secret_output_folder = \"secrets\"\n",
    "    secret_file = \"access_token_response.json\"\n",
    "    with open(f\"{secret_output_folder}/{secret_file}\", \"w\") as f:\n",
    "        json.dump(access_token_response, f)"
   ]
  },
  {
   "cell_type": "markdown",
   "metadata": {},
   "source": [
    "## Test Example\n",
    "TDX API Testing\n",
    "> You must make sure you have your access token file to do the followings."
   ]
  },
  {
   "cell_type": "code",
   "execution_count": null,
   "metadata": {},
   "outputs": [],
   "source": [
    "TDX_TEST_API_ENDPOINT = \"https://tdx.transportdata.tw/api/basic\"\n",
    "TEST_URI = f\"{TDX_TEST_API_ENDPOINT}/v1/Parking/Alert/City/Keelung\""
   ]
  },
  {
   "cell_type": "code",
   "execution_count": null,
   "metadata": {},
   "outputs": [],
   "source": [
    "access_token = json.load(open(f\"{secret_output_folder}/{secret_file}\", \"r\"))['access_token']"
   ]
  },
  {
   "cell_type": "code",
   "execution_count": null,
   "metadata": {},
   "outputs": [],
   "source": [
    "access_token"
   ]
  },
  {
   "cell_type": "code",
   "execution_count": null,
   "metadata": {},
   "outputs": [],
   "source": [
    "test_headers = {\n",
    "    \"Authorization\": f\"Bearer {access_token}\"\n",
    "}\n",
    "response_test_api = requests.get(TEST_URI, headers=test_headers)"
   ]
  },
  {
   "cell_type": "code",
   "execution_count": null,
   "metadata": {},
   "outputs": [],
   "source": [
    "if (response_test_api.status_code == 200):\n",
    "    res = response_test_api.json()\n",
    "\n",
    "    if (isinstance(res, list) and len(res) > 0):\n",
    "        print(res[0])\n",
    "    else:\n",
    "        print(res)"
   ]
  }
 ],
 "metadata": {
  "kernelspec": {
   "display_name": "pytorch",
   "language": "python",
   "name": "python3"
  },
  "language_info": {
   "codemirror_mode": {
    "name": "ipython",
    "version": 3
   },
   "file_extension": ".py",
   "mimetype": "text/x-python",
   "name": "python",
   "nbconvert_exporter": "python",
   "pygments_lexer": "ipython3",
   "version": "3.10.13"
  }
 },
 "nbformat": 4,
 "nbformat_minor": 2
}
